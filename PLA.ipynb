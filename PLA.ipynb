{
 "cells": [
  {
   "cell_type": "code",
   "execution_count": 4,
   "metadata": {},
   "outputs": [
    {
     "name": "stdout",
     "output_type": "stream",
     "text": [
      "For 1st set of data : \n",
      "\n",
      "W = [-167   52  106]\n",
      "errors during training =  1\n",
      "Count of error in test data =  27  out of 50\n",
      "\n",
      "\n",
      "For 2nd set of data : \n",
      "\n",
      "W = [-84  28  52]\n",
      "errors during training =  1\n",
      "Count of error in test data =  26  out of 50\n"
     ]
    }
   ],
   "source": [
    "import pandas as pd\n",
    "import numpy as np\n",
    "import random\n",
    "\n",
    "def train(X,Y):\n",
    "    Y=Y.reshape(1,-1)[0]\n",
    "    rows=len(X)\n",
    "    W = np.random.randint(1,1000,3)\n",
    "    count=rows\n",
    "    while(count>1):\n",
    "        count=0\n",
    "        for j in range(0,rows):\n",
    "            y=W[0]\n",
    "            for i in range(0,2):\n",
    "                y+=W[i+1]*X[j][i]\n",
    "            if np.sign(y) != Y[j]:\n",
    "                count+=1\n",
    "                W[0]+=Y[j]\n",
    "                for k in range(0,2):\n",
    "                    W[k+1]+=Y[j]*X[j][k]\n",
    "    print(\"W =\",str(W))\n",
    "    print(\"errors during training = \" ,str(count))\n",
    "    return W\n",
    "\n",
    "def PLA(address):\n",
    "    data=pd.read_excel(address)\n",
    "    data=data.sample(frac=1)\n",
    "    X=np.asarray(data.iloc[:,:2])\n",
    "    Y=np.asarray(data.iloc[:,[2]])\n",
    "    rows=len(X)\n",
    "    t_count=int(0.75*rows)\n",
    "    train_x=X[:t_count]\n",
    "    train_y=Y[:t_count]\n",
    "    test_x=X[t_count:]\n",
    "    test_y=Y[t_count:]\n",
    "    W=train(train_x,train_y)\n",
    "    count=0\n",
    "    n=len(test_x)\n",
    "    for i in range(0,n):\n",
    "        y=W[0]\n",
    "        for j in range(0,2):\n",
    "            y+=W[j+1]*X[i][j]\n",
    "        if np.sign(y) != test_y[i]:\n",
    "            count+=1\n",
    "    print(\"Count of error in test data = \",str(count),\" out of \"+str(n))\n",
    "\n",
    "\n",
    "print(\"For 1st set of data : \\n\")\n",
    "PLA('PLA_Data1.xlsx')\n",
    "print(\"\\n\\nFor 2nd set of data : \\n\")\n",
    "PLA('PLA_Data2.xlsx')\n"
   ]
  },
  {
   "cell_type": "code",
   "execution_count": null,
   "metadata": {},
   "outputs": [],
   "source": []
  }
 ],
 "metadata": {
  "kernelspec": {
   "display_name": "Python 3",
   "language": "python",
   "name": "python3"
  },
  "language_info": {
   "codemirror_mode": {
    "name": "ipython",
    "version": 3
   },
   "file_extension": ".py",
   "mimetype": "text/x-python",
   "name": "python",
   "nbconvert_exporter": "python",
   "pygments_lexer": "ipython3",
   "version": "3.8.5"
  }
 },
 "nbformat": 4,
 "nbformat_minor": 4
}
